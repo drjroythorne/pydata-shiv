{
 "cells": [
  {
   "cell_type": "markdown",
   "metadata": {
    "slideshow": {
     "slide_type": "slide"
    }
   },
   "source": [
    "# Pydata Cambridge, 2018-12-11\n",
    "## Shiv - PEP 441 for real (+ some Docker and grpc distractions)\n",
    "\n",
    "Daniel Roythorne"
   ]
  },
  {
   "cell_type": "markdown",
   "metadata": {
    "slideshow": {
     "slide_type": "slide"
    }
   },
   "source": [
    "[Shiv](https://github.com/linkedin/shiv) is a command line utility for \n",
    "\n",
    "- building fully self contained Python zipapps as outlined in [PEP 441](https://www.python.org/dev/peps/pep-0441/),\n",
    "- but with all their dependencies included.\n",
    "\n",
    "And it seems to actually work!"
   ]
  },
  {
   "cell_type": "markdown",
   "metadata": {
    "slideshow": {
     "slide_type": "slide"
    }
   },
   "source": [
    "## A small example\n",
    "\n",
    "Detouring through a couple of very powerful tools\n",
    "\n",
    "- Bundle up a [grpc](https://grpc.io/) server exposing some dumb predictive model with *shiv*\n",
    "- run a multi-stage [Docker](https://www.docker.com/) build to make a nice small container\n",
    "- call it asyncronously using elements of [asyncio](https://docs.python.org/3/library/asyncio.html)"
   ]
  }
 ],
 "metadata": {
  "celltoolbar": "Slideshow",
  "kernelspec": {
   "display_name": "Python 3",
   "language": "python",
   "name": "python3"
  },
  "language_info": {
   "codemirror_mode": {
    "name": "ipython",
    "version": 3
   },
   "file_extension": ".py",
   "mimetype": "text/x-python",
   "name": "python",
   "nbconvert_exporter": "python",
   "pygments_lexer": "ipython3",
   "version": "3.7.0"
  }
 },
 "nbformat": 4,
 "nbformat_minor": 2
}
